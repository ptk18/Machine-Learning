{
  "nbformat": 4,
  "nbformat_minor": 0,
  "metadata": {
    "colab": {
      "provenance": [],
      "authorship_tag": "ABX9TyPNy28eXL1IZYV0FntZJmsZ",
      "include_colab_link": true
    },
    "kernelspec": {
      "name": "python3",
      "display_name": "Python 3"
    },
    "language_info": {
      "name": "python"
    }
  },
  "cells": [
    {
      "cell_type": "markdown",
      "metadata": {
        "id": "view-in-github",
        "colab_type": "text"
      },
      "source": [
        "<a href=\"https://colab.research.google.com/github/ptk18/Machine-Learning/blob/main/65011466_ML_Lab3.ipynb\" target=\"_parent\"><img src=\"https://colab.research.google.com/assets/colab-badge.svg\" alt=\"Open In Colab\"/></a>"
      ]
    },
    {
      "cell_type": "markdown",
      "source": [
        "## **Experiment 1: PyTorch Installation**"
      ],
      "metadata": {
        "id": "HmeFZM88lDP4"
      }
    },
    {
      "cell_type": "code",
      "execution_count": null,
      "metadata": {
        "colab": {
          "base_uri": "https://localhost:8080/"
        },
        "id": "K-gNrtK0dqM4",
        "outputId": "4e26a7e0-0d6a-4e9a-fa0c-0020a043f0a2"
      },
      "outputs": [
        {
          "output_type": "stream",
          "name": "stdout",
          "text": [
            "tensor([[0.9876, 0.9706, 0.3429, 0.1988],\n",
            "        [0.7574, 0.6270, 0.4530, 0.4009],\n",
            "        [0.8268, 0.2209, 0.5768, 0.4402]])\n",
            "matrix A = tensor([[1, 2],\n",
            "        [3, 4]])\n",
            "vector x = tensor([[1],\n",
            "        [2]])\n",
            "transpose of x = tensor([1, 2])\n",
            "A * x =\n",
            "tensor([[ 5],\n",
            "        [11]])\n",
            "xT * A =\n",
            "tensor([ 5, 11])\n"
          ]
        }
      ],
      "source": [
        "import torch\n",
        "\n",
        "rand = torch.rand(3,4)\n",
        "print(rand)\n",
        "\n",
        "data1 = [[1,2], [3,4]]\n",
        "data2 = [[1], [2]]\n",
        "data3 = [1,2]\n",
        "t1 = torch.tensor(data1)\n",
        "t2 = torch.tensor(data2)\n",
        "t3 = torch.tensor(data3)\n",
        "r1 = torch.matmul(t1, t2)\n",
        "r2 = torch.matmul(t1, t3)\n",
        "print(\"matrix A =\", t1)\n",
        "print(\"vector x =\", t2)\n",
        "print(\"transpose of x =\", t3)\n",
        "print(\"A * x =\")\n",
        "print(r1)\n",
        "print(\"xT * A =\")\n",
        "print(r2)"
      ]
    },
    {
      "cell_type": "markdown",
      "source": [
        "## **Experiment 2 : ANN for Iris dataset using PyTorch**"
      ],
      "metadata": {
        "id": "tVdPARSxlX-6"
      }
    },
    {
      "cell_type": "code",
      "source": [
        "import pandas as pd\n",
        "import numpy as np\n",
        "\n",
        "filename = 'iris.csv'\n",
        "df = pd.read_csv(filename)\n",
        "\n",
        "X = df.drop('variety', axis=1)\n",
        "X = X.values\n",
        "\n",
        "y = df['variety']\n",
        "y = y.values.reshape(150,1)\n",
        "\n",
        "l_y = []\n",
        "for i in range(len(y)):\n",
        "  if y[i,0] == 'Setosa':\n",
        "    l_y.append([1,0,0])\n",
        "  elif y[i,0] == 'Versicolor':\n",
        "    l_y.append([0,1,0])\n",
        "  elif y[i,0] == 'Virginica':\n",
        "    l_y.append([0,0,1])\n",
        "y = np.array(l_y)\n",
        "\n",
        "import torch\n",
        "X = torch.Tensor(X)\n",
        "y = torch.Tensor(y)\n",
        "print(X)\n",
        "print(y)\n",
        "print(X.shape)\n",
        "print(y.shape)"
      ],
      "metadata": {
        "colab": {
          "base_uri": "https://localhost:8080/"
        },
        "id": "bm0SZ0b2fY9q",
        "outputId": "2ddaa844-e089-4d04-90c6-ace46d5d8f6f"
      },
      "execution_count": null,
      "outputs": [
        {
          "output_type": "stream",
          "name": "stdout",
          "text": [
            "tensor([[5.1000, 3.5000, 1.4000, 0.2000],\n",
            "        [4.9000, 3.0000, 1.4000, 0.2000],\n",
            "        [4.7000, 3.2000, 1.3000, 0.2000],\n",
            "        [4.6000, 3.1000, 1.5000, 0.2000],\n",
            "        [5.0000, 3.6000, 1.4000, 0.2000],\n",
            "        [5.4000, 3.9000, 1.7000, 0.4000],\n",
            "        [4.6000, 3.4000, 1.4000, 0.3000],\n",
            "        [5.0000, 3.4000, 1.5000, 0.2000],\n",
            "        [4.4000, 2.9000, 1.4000, 0.2000],\n",
            "        [4.9000, 3.1000, 1.5000, 0.1000],\n",
            "        [5.4000, 3.7000, 1.5000, 0.2000],\n",
            "        [4.8000, 3.4000, 1.6000, 0.2000],\n",
            "        [4.8000, 3.0000, 1.4000, 0.1000],\n",
            "        [4.3000, 3.0000, 1.1000, 0.1000],\n",
            "        [5.8000, 4.0000, 1.2000, 0.2000],\n",
            "        [5.7000, 4.4000, 1.5000, 0.4000],\n",
            "        [5.4000, 3.9000, 1.3000, 0.4000],\n",
            "        [5.1000, 3.5000, 1.4000, 0.3000],\n",
            "        [5.7000, 3.8000, 1.7000, 0.3000],\n",
            "        [5.1000, 3.8000, 1.5000, 0.3000],\n",
            "        [5.4000, 3.4000, 1.7000, 0.2000],\n",
            "        [5.1000, 3.7000, 1.5000, 0.4000],\n",
            "        [4.6000, 3.6000, 1.0000, 0.2000],\n",
            "        [5.1000, 3.3000, 1.7000, 0.5000],\n",
            "        [4.8000, 3.4000, 1.9000, 0.2000],\n",
            "        [5.0000, 3.0000, 1.6000, 0.2000],\n",
            "        [5.0000, 3.4000, 1.6000, 0.4000],\n",
            "        [5.2000, 3.5000, 1.5000, 0.2000],\n",
            "        [5.2000, 3.4000, 1.4000, 0.2000],\n",
            "        [4.7000, 3.2000, 1.6000, 0.2000],\n",
            "        [4.8000, 3.1000, 1.6000, 0.2000],\n",
            "        [5.4000, 3.4000, 1.5000, 0.4000],\n",
            "        [5.2000, 4.1000, 1.5000, 0.1000],\n",
            "        [5.5000, 4.2000, 1.4000, 0.2000],\n",
            "        [4.9000, 3.1000, 1.5000, 0.2000],\n",
            "        [5.0000, 3.2000, 1.2000, 0.2000],\n",
            "        [5.5000, 3.5000, 1.3000, 0.2000],\n",
            "        [4.9000, 3.6000, 1.4000, 0.1000],\n",
            "        [4.4000, 3.0000, 1.3000, 0.2000],\n",
            "        [5.1000, 3.4000, 1.5000, 0.2000],\n",
            "        [5.0000, 3.5000, 1.3000, 0.3000],\n",
            "        [4.5000, 2.3000, 1.3000, 0.3000],\n",
            "        [4.4000, 3.2000, 1.3000, 0.2000],\n",
            "        [5.0000, 3.5000, 1.6000, 0.6000],\n",
            "        [5.1000, 3.8000, 1.9000, 0.4000],\n",
            "        [4.8000, 3.0000, 1.4000, 0.3000],\n",
            "        [5.1000, 3.8000, 1.6000, 0.2000],\n",
            "        [4.6000, 3.2000, 1.4000, 0.2000],\n",
            "        [5.3000, 3.7000, 1.5000, 0.2000],\n",
            "        [5.0000, 3.3000, 1.4000, 0.2000],\n",
            "        [7.0000, 3.2000, 4.7000, 1.4000],\n",
            "        [6.4000, 3.2000, 4.5000, 1.5000],\n",
            "        [6.9000, 3.1000, 4.9000, 1.5000],\n",
            "        [5.5000, 2.3000, 4.0000, 1.3000],\n",
            "        [6.5000, 2.8000, 4.6000, 1.5000],\n",
            "        [5.7000, 2.8000, 4.5000, 1.3000],\n",
            "        [6.3000, 3.3000, 4.7000, 1.6000],\n",
            "        [4.9000, 2.4000, 3.3000, 1.0000],\n",
            "        [6.6000, 2.9000, 4.6000, 1.3000],\n",
            "        [5.2000, 2.7000, 3.9000, 1.4000],\n",
            "        [5.0000, 2.0000, 3.5000, 1.0000],\n",
            "        [5.9000, 3.0000, 4.2000, 1.5000],\n",
            "        [6.0000, 2.2000, 4.0000, 1.0000],\n",
            "        [6.1000, 2.9000, 4.7000, 1.4000],\n",
            "        [5.6000, 2.9000, 3.6000, 1.3000],\n",
            "        [6.7000, 3.1000, 4.4000, 1.4000],\n",
            "        [5.6000, 3.0000, 4.5000, 1.5000],\n",
            "        [5.8000, 2.7000, 4.1000, 1.0000],\n",
            "        [6.2000, 2.2000, 4.5000, 1.5000],\n",
            "        [5.6000, 2.5000, 3.9000, 1.1000],\n",
            "        [5.9000, 3.2000, 4.8000, 1.8000],\n",
            "        [6.1000, 2.8000, 4.0000, 1.3000],\n",
            "        [6.3000, 2.5000, 4.9000, 1.5000],\n",
            "        [6.1000, 2.8000, 4.7000, 1.2000],\n",
            "        [6.4000, 2.9000, 4.3000, 1.3000],\n",
            "        [6.6000, 3.0000, 4.4000, 1.4000],\n",
            "        [6.8000, 2.8000, 4.8000, 1.4000],\n",
            "        [6.7000, 3.0000, 5.0000, 1.7000],\n",
            "        [6.0000, 2.9000, 4.5000, 1.5000],\n",
            "        [5.7000, 2.6000, 3.5000, 1.0000],\n",
            "        [5.5000, 2.4000, 3.8000, 1.1000],\n",
            "        [5.5000, 2.4000, 3.7000, 1.0000],\n",
            "        [5.8000, 2.7000, 3.9000, 1.2000],\n",
            "        [6.0000, 2.7000, 5.1000, 1.6000],\n",
            "        [5.4000, 3.0000, 4.5000, 1.5000],\n",
            "        [6.0000, 3.4000, 4.5000, 1.6000],\n",
            "        [6.7000, 3.1000, 4.7000, 1.5000],\n",
            "        [6.3000, 2.3000, 4.4000, 1.3000],\n",
            "        [5.6000, 3.0000, 4.1000, 1.3000],\n",
            "        [5.5000, 2.5000, 4.0000, 1.3000],\n",
            "        [5.5000, 2.6000, 4.4000, 1.2000],\n",
            "        [6.1000, 3.0000, 4.6000, 1.4000],\n",
            "        [5.8000, 2.6000, 4.0000, 1.2000],\n",
            "        [5.0000, 2.3000, 3.3000, 1.0000],\n",
            "        [5.6000, 2.7000, 4.2000, 1.3000],\n",
            "        [5.7000, 3.0000, 4.2000, 1.2000],\n",
            "        [5.7000, 2.9000, 4.2000, 1.3000],\n",
            "        [6.2000, 2.9000, 4.3000, 1.3000],\n",
            "        [5.1000, 2.5000, 3.0000, 1.1000],\n",
            "        [5.7000, 2.8000, 4.1000, 1.3000],\n",
            "        [6.3000, 3.3000, 6.0000, 2.5000],\n",
            "        [5.8000, 2.7000, 5.1000, 1.9000],\n",
            "        [7.1000, 3.0000, 5.9000, 2.1000],\n",
            "        [6.3000, 2.9000, 5.6000, 1.8000],\n",
            "        [6.5000, 3.0000, 5.8000, 2.2000],\n",
            "        [7.6000, 3.0000, 6.6000, 2.1000],\n",
            "        [4.9000, 2.5000, 4.5000, 1.7000],\n",
            "        [7.3000, 2.9000, 6.3000, 1.8000],\n",
            "        [6.7000, 2.5000, 5.8000, 1.8000],\n",
            "        [7.2000, 3.6000, 6.1000, 2.5000],\n",
            "        [6.5000, 3.2000, 5.1000, 2.0000],\n",
            "        [6.4000, 2.7000, 5.3000, 1.9000],\n",
            "        [6.8000, 3.0000, 5.5000, 2.1000],\n",
            "        [5.7000, 2.5000, 5.0000, 2.0000],\n",
            "        [5.8000, 2.8000, 5.1000, 2.4000],\n",
            "        [6.4000, 3.2000, 5.3000, 2.3000],\n",
            "        [6.5000, 3.0000, 5.5000, 1.8000],\n",
            "        [7.7000, 3.8000, 6.7000, 2.2000],\n",
            "        [7.7000, 2.6000, 6.9000, 2.3000],\n",
            "        [6.0000, 2.2000, 5.0000, 1.5000],\n",
            "        [6.9000, 3.2000, 5.7000, 2.3000],\n",
            "        [5.6000, 2.8000, 4.9000, 2.0000],\n",
            "        [7.7000, 2.8000, 6.7000, 2.0000],\n",
            "        [6.3000, 2.7000, 4.9000, 1.8000],\n",
            "        [6.7000, 3.3000, 5.7000, 2.1000],\n",
            "        [7.2000, 3.2000, 6.0000, 1.8000],\n",
            "        [6.2000, 2.8000, 4.8000, 1.8000],\n",
            "        [6.1000, 3.0000, 4.9000, 1.8000],\n",
            "        [6.4000, 2.8000, 5.6000, 2.1000],\n",
            "        [7.2000, 3.0000, 5.8000, 1.6000],\n",
            "        [7.4000, 2.8000, 6.1000, 1.9000],\n",
            "        [7.9000, 3.8000, 6.4000, 2.0000],\n",
            "        [6.4000, 2.8000, 5.6000, 2.2000],\n",
            "        [6.3000, 2.8000, 5.1000, 1.5000],\n",
            "        [6.1000, 2.6000, 5.6000, 1.4000],\n",
            "        [7.7000, 3.0000, 6.1000, 2.3000],\n",
            "        [6.3000, 3.4000, 5.6000, 2.4000],\n",
            "        [6.4000, 3.1000, 5.5000, 1.8000],\n",
            "        [6.0000, 3.0000, 4.8000, 1.8000],\n",
            "        [6.9000, 3.1000, 5.4000, 2.1000],\n",
            "        [6.7000, 3.1000, 5.6000, 2.4000],\n",
            "        [6.9000, 3.1000, 5.1000, 2.3000],\n",
            "        [5.8000, 2.7000, 5.1000, 1.9000],\n",
            "        [6.8000, 3.2000, 5.9000, 2.3000],\n",
            "        [6.7000, 3.3000, 5.7000, 2.5000],\n",
            "        [6.7000, 3.0000, 5.2000, 2.3000],\n",
            "        [6.3000, 2.5000, 5.0000, 1.9000],\n",
            "        [6.5000, 3.0000, 5.2000, 2.0000],\n",
            "        [6.2000, 3.4000, 5.4000, 2.3000],\n",
            "        [5.9000, 3.0000, 5.1000, 1.8000]])\n",
            "tensor([[1., 0., 0.],\n",
            "        [1., 0., 0.],\n",
            "        [1., 0., 0.],\n",
            "        [1., 0., 0.],\n",
            "        [1., 0., 0.],\n",
            "        [1., 0., 0.],\n",
            "        [1., 0., 0.],\n",
            "        [1., 0., 0.],\n",
            "        [1., 0., 0.],\n",
            "        [1., 0., 0.],\n",
            "        [1., 0., 0.],\n",
            "        [1., 0., 0.],\n",
            "        [1., 0., 0.],\n",
            "        [1., 0., 0.],\n",
            "        [1., 0., 0.],\n",
            "        [1., 0., 0.],\n",
            "        [1., 0., 0.],\n",
            "        [1., 0., 0.],\n",
            "        [1., 0., 0.],\n",
            "        [1., 0., 0.],\n",
            "        [1., 0., 0.],\n",
            "        [1., 0., 0.],\n",
            "        [1., 0., 0.],\n",
            "        [1., 0., 0.],\n",
            "        [1., 0., 0.],\n",
            "        [1., 0., 0.],\n",
            "        [1., 0., 0.],\n",
            "        [1., 0., 0.],\n",
            "        [1., 0., 0.],\n",
            "        [1., 0., 0.],\n",
            "        [1., 0., 0.],\n",
            "        [1., 0., 0.],\n",
            "        [1., 0., 0.],\n",
            "        [1., 0., 0.],\n",
            "        [1., 0., 0.],\n",
            "        [1., 0., 0.],\n",
            "        [1., 0., 0.],\n",
            "        [1., 0., 0.],\n",
            "        [1., 0., 0.],\n",
            "        [1., 0., 0.],\n",
            "        [1., 0., 0.],\n",
            "        [1., 0., 0.],\n",
            "        [1., 0., 0.],\n",
            "        [1., 0., 0.],\n",
            "        [1., 0., 0.],\n",
            "        [1., 0., 0.],\n",
            "        [1., 0., 0.],\n",
            "        [1., 0., 0.],\n",
            "        [1., 0., 0.],\n",
            "        [1., 0., 0.],\n",
            "        [0., 1., 0.],\n",
            "        [0., 1., 0.],\n",
            "        [0., 1., 0.],\n",
            "        [0., 1., 0.],\n",
            "        [0., 1., 0.],\n",
            "        [0., 1., 0.],\n",
            "        [0., 1., 0.],\n",
            "        [0., 1., 0.],\n",
            "        [0., 1., 0.],\n",
            "        [0., 1., 0.],\n",
            "        [0., 1., 0.],\n",
            "        [0., 1., 0.],\n",
            "        [0., 1., 0.],\n",
            "        [0., 1., 0.],\n",
            "        [0., 1., 0.],\n",
            "        [0., 1., 0.],\n",
            "        [0., 1., 0.],\n",
            "        [0., 1., 0.],\n",
            "        [0., 1., 0.],\n",
            "        [0., 1., 0.],\n",
            "        [0., 1., 0.],\n",
            "        [0., 1., 0.],\n",
            "        [0., 1., 0.],\n",
            "        [0., 1., 0.],\n",
            "        [0., 1., 0.],\n",
            "        [0., 1., 0.],\n",
            "        [0., 1., 0.],\n",
            "        [0., 1., 0.],\n",
            "        [0., 1., 0.],\n",
            "        [0., 1., 0.],\n",
            "        [0., 1., 0.],\n",
            "        [0., 1., 0.],\n",
            "        [0., 1., 0.],\n",
            "        [0., 1., 0.],\n",
            "        [0., 1., 0.],\n",
            "        [0., 1., 0.],\n",
            "        [0., 1., 0.],\n",
            "        [0., 1., 0.],\n",
            "        [0., 1., 0.],\n",
            "        [0., 1., 0.],\n",
            "        [0., 1., 0.],\n",
            "        [0., 1., 0.],\n",
            "        [0., 1., 0.],\n",
            "        [0., 1., 0.],\n",
            "        [0., 1., 0.],\n",
            "        [0., 1., 0.],\n",
            "        [0., 1., 0.],\n",
            "        [0., 1., 0.],\n",
            "        [0., 1., 0.],\n",
            "        [0., 1., 0.],\n",
            "        [0., 0., 1.],\n",
            "        [0., 0., 1.],\n",
            "        [0., 0., 1.],\n",
            "        [0., 0., 1.],\n",
            "        [0., 0., 1.],\n",
            "        [0., 0., 1.],\n",
            "        [0., 0., 1.],\n",
            "        [0., 0., 1.],\n",
            "        [0., 0., 1.],\n",
            "        [0., 0., 1.],\n",
            "        [0., 0., 1.],\n",
            "        [0., 0., 1.],\n",
            "        [0., 0., 1.],\n",
            "        [0., 0., 1.],\n",
            "        [0., 0., 1.],\n",
            "        [0., 0., 1.],\n",
            "        [0., 0., 1.],\n",
            "        [0., 0., 1.],\n",
            "        [0., 0., 1.],\n",
            "        [0., 0., 1.],\n",
            "        [0., 0., 1.],\n",
            "        [0., 0., 1.],\n",
            "        [0., 0., 1.],\n",
            "        [0., 0., 1.],\n",
            "        [0., 0., 1.],\n",
            "        [0., 0., 1.],\n",
            "        [0., 0., 1.],\n",
            "        [0., 0., 1.],\n",
            "        [0., 0., 1.],\n",
            "        [0., 0., 1.],\n",
            "        [0., 0., 1.],\n",
            "        [0., 0., 1.],\n",
            "        [0., 0., 1.],\n",
            "        [0., 0., 1.],\n",
            "        [0., 0., 1.],\n",
            "        [0., 0., 1.],\n",
            "        [0., 0., 1.],\n",
            "        [0., 0., 1.],\n",
            "        [0., 0., 1.],\n",
            "        [0., 0., 1.],\n",
            "        [0., 0., 1.],\n",
            "        [0., 0., 1.],\n",
            "        [0., 0., 1.],\n",
            "        [0., 0., 1.],\n",
            "        [0., 0., 1.],\n",
            "        [0., 0., 1.],\n",
            "        [0., 0., 1.],\n",
            "        [0., 0., 1.],\n",
            "        [0., 0., 1.],\n",
            "        [0., 0., 1.]])\n",
            "torch.Size([150, 4])\n",
            "torch.Size([150, 3])\n"
          ]
        }
      ]
    },
    {
      "cell_type": "code",
      "source": [
        "from sklearn.model_selection import train_test_split\n",
        "from torch.utils.data import TensorDataset, DataLoader\n",
        "\n",
        "X_train, X_test, y_train, y_test = train_test_split(X, y, test_size=0.2, random_state=23)\n",
        "\n",
        "train_ds = TensorDataset(X_train, y_train)\n",
        "\n",
        "batch_size = 1\n",
        "train_dl = DataLoader(train_ds, batch_size, shuffle=True)"
      ],
      "metadata": {
        "id": "q7F_D1VbfY66"
      },
      "execution_count": null,
      "outputs": []
    },
    {
      "cell_type": "code",
      "source": [
        "import torch\n",
        "from torch import nn\n",
        "\n",
        "class MLP(nn.Module):\n",
        "  def __init__(self, input_size, hidden_size, output_size):\n",
        "    super().__init__()\n",
        "    self.layer1 = nn.Linear(input_size, hidden_size)\n",
        "    self.layer_out = nn.Linear(hidden_size, output_size)\n",
        "    self.activation_fn = nn.Sigmoid()\n",
        "\n",
        "  def forward(self, x):\n",
        "    z1 = self.layer1(x)\n",
        "    a1 = self.activation_fn(z1)\n",
        "    z_out = self.layer_out(a1)\n",
        "    y = nn.Softmax(dim=1)(z_out)\n",
        "    return y\n",
        "\n",
        "model_iris = MLP(4,8,3)\n",
        "print(model_iris)"
      ],
      "metadata": {
        "colab": {
          "base_uri": "https://localhost:8080/"
        },
        "id": "ZaV3QD6sfY4O",
        "outputId": "d68535cf-64ae-415f-cce9-3c763e6e9ba0"
      },
      "execution_count": null,
      "outputs": [
        {
          "output_type": "stream",
          "name": "stdout",
          "text": [
            "MLP(\n",
            "  (layer1): Linear(in_features=4, out_features=8, bias=True)\n",
            "  (layer_out): Linear(in_features=8, out_features=3, bias=True)\n",
            "  (activation_fn): Sigmoid()\n",
            ")\n"
          ]
        }
      ]
    },
    {
      "cell_type": "code",
      "source": [
        "from torch.optim import SGD\n",
        "\n",
        "learning_rate = 0.002\n",
        "momentum = 0.1\n",
        "\n",
        "loss_fn = nn.MSELoss(reduction='mean')\n",
        "\n",
        "optimizer = SGD(model_iris.parameters(), lr=learning_rate, momentum=momentum)\n",
        "\n",
        "num_epochs = 1000\n",
        "batch_size = 1\n",
        "\n",
        "loss_arr = []\n",
        "for epoch in range(num_epochs):\n",
        "  for x_batch, y_batch in train_dl:\n",
        "    predict = model_iris(x_batch)\n",
        "    loss = loss_fn(predict, y_batch)\n",
        "    loss.backward()\n",
        "    optimizer.step()\n",
        "    optimizer.zero_grad()\n",
        "  if epoch % (num_epochs/10) == 0:\n",
        "    print(f'Epch {epoch} Loss {loss.item():.4f}')\n",
        "  loss_arr.append(loss.item())"
      ],
      "metadata": {
        "colab": {
          "base_uri": "https://localhost:8080/"
        },
        "id": "vVapCgP5iG-B",
        "outputId": "b8b2c1bf-ea93-44f3-bd98-e05747a1a41a"
      },
      "execution_count": null,
      "outputs": [
        {
          "output_type": "stream",
          "name": "stdout",
          "text": [
            "Epch 0 Loss 0.1587\n",
            "Epch 100 Loss 0.2068\n",
            "Epch 200 Loss 0.1697\n",
            "Epch 300 Loss 0.2023\n",
            "Epch 400 Loss 0.1136\n",
            "Epch 500 Loss 0.0319\n",
            "Epch 600 Loss 0.1023\n",
            "Epch 700 Loss 0.0152\n",
            "Epch 800 Loss 0.0166\n",
            "Epch 900 Loss 0.0067\n"
          ]
        }
      ]
    },
    {
      "cell_type": "code",
      "source": [
        "import matplotlib.pyplot as plt\n",
        "\n",
        "def wma(data, window_size):\n",
        "  weights = np.arange(1, window_size + 1)\n",
        "  return list(np.convolve(data, weights, mode='valid') / weights.sum())\n",
        "loss_avg_arr = []\n",
        "window_size = 15\n",
        "loss_avg_arr = wma(loss_arr, window_size)\n",
        "for i in range(window_size - 1):\n",
        "  loss_avg_arr.append(loss_avg_arr[-1])\n",
        "plt.plot(list(range(num_epochs)), loss_arr)\n",
        "plt.plot(list(range(num_epochs)), loss_avg_arr)\n",
        "plt.xlabel('iterations')\n",
        "plt.ylabel('Loss')\n",
        "plt.show()"
      ],
      "metadata": {
        "colab": {
          "base_uri": "https://localhost:8080/",
          "height": 449
        },
        "id": "ay5PNX0kiG7N",
        "outputId": "b5d46017-4259-4631-afa5-763792b214e1"
      },
      "execution_count": null,
      "outputs": [
        {
          "output_type": "display_data",
          "data": {
            "text/plain": [
              "<Figure size 640x480 with 1 Axes>"
            ],
            "image/png": "[encoded data removed]"
          },
          "metadata": {}
        }
      ]
    },
    {
      "cell_type": "code",
      "source": [
        "correct = 0\n",
        "total = y_test.shape[0]\n",
        "y_predict = model_iris.forward(X_test)\n",
        "for i in range(total):\n",
        "  val_predict, indices_predict = torch.max(y_predict[i, :], 0)\n",
        "  val_actual, indices_actual = torch.max(y_test[i, :],0)\n",
        "  if indices_predict == indices_actual:\n",
        "    correct += 1\n",
        "print(\"number of correction=\", correct, \"out of \", total, \", accuracy=\", correct/total)"
      ],
      "metadata": {
        "colab": {
          "base_uri": "https://localhost:8080/"
        },
        "id": "TUp5c9pRiG4s",
        "outputId": "440f8514-bd17-41a2-e68b-5c0a56cbb938"
      },
      "execution_count": null,
      "outputs": [
        {
          "output_type": "stream",
          "name": "stdout",
          "text": [
            "number of correction= 30 out of  30 , accuracy= 1.0\n"
          ]
        }
      ]
    },
    {
      "cell_type": "code",
      "source": [
        "path = 'model_iris.pth'\n",
        "torch.save(model_iris, path)"
      ],
      "metadata": {
        "id": "8IjWUIeXk4S0"
      },
      "execution_count": null,
      "outputs": []
    },
    {
      "cell_type": "markdown",
      "source": [
        "# **Experiment 3 : ANN for MNIST handwritten digit using PyTorch**"
      ],
      "metadata": {
        "id": "eRgTMSN7lgZB"
      }
    },
    {
      "cell_type": "code",
      "source": [
        "#Load and Preprocess the MNIST Data\n",
        "\n",
        "import torch\n",
        "import torchvision\n",
        "import torchvision.transforms as transforms\n",
        "\n",
        "# Load the MNIST dataset using torchvision\n",
        "transform = transforms.Compose([transforms.ToTensor(), transforms.Normalize((0.5,), (0.5,))])\n",
        "\n",
        "train_dataset = torchvision.datasets.MNIST(root='./data', train=True, transform=transform, download=True)\n",
        "test_dataset = torchvision.datasets.MNIST(root='./data', train=False, transform=transform, download=True)\n",
        "\n",
        "train_loader = torch.utils.data.DataLoader(dataset=train_dataset, batch_size=64, shuffle=True)\n",
        "test_loader = torch.utils.data.DataLoader(dataset=test_dataset, batch_size=64, shuffle=False)\n"
      ],
      "metadata": {
        "id": "1keEdCoRloZb"
      },
      "execution_count": null,
      "outputs": []
    },
    {
      "cell_type": "code",
      "source": [
        "import torch\n",
        "import torch.nn as nn\n",
        "import torch.optim as optim\n",
        "\n",
        "# Define the ANN model\n",
        "class ANN(nn.Module):\n",
        "    def __init__(self):\n",
        "        super(ANN, self).__init__()\n",
        "        # Flattening the images from 28x28 into a single dimension (784)\n",
        "        self.fc1 = nn.Linear(28*28, 100)  # First hidden layer with 100 neurons\n",
        "        self.fc2 = nn.Linear(100, 100)    # Second hidden layer with 100 neurons\n",
        "        self.fc3 = nn.Linear(100, 10)     # Output layer with 10 neurons (for digits 0-9)\n",
        "\n",
        "    def forward(self, x):\n",
        "        x = x.view(-1, 28*28)  # Flatten the input from [batch_size, 1, 28, 28] to [batch_size, 784]\n",
        "        x = torch.relu(self.fc1(x))  # First hidden layer with ReLU activation\n",
        "        x = torch.relu(self.fc2(x))  # Second hidden layer with ReLU activation\n",
        "        x = self.fc3(x)  # Output layer (logits for classification)\n",
        "        return x\n",
        "\n",
        "# Instantiate the model\n",
        "model = ANN()\n",
        "\n",
        "# Loss function and optimizer\n",
        "criterion = nn.CrossEntropyLoss()\n",
        "optimizer = optim.SGD(model.parameters(), lr=0.01)\n"
      ],
      "metadata": {
        "id": "uDbYnmntw5Zs"
      },
      "execution_count": null,
      "outputs": []
    },
    {
      "cell_type": "code",
      "source": [
        "# Training the Model\n",
        "\n",
        "n_epochs = 5\n",
        "\n",
        "for epoch in range(n_epochs):\n",
        "    running_loss = 0.0\n",
        "    for images, labels in train_loader:\n",
        "        # Zero the gradients\n",
        "        optimizer.zero_grad()\n",
        "\n",
        "        # Forward pass\n",
        "        outputs = model(images)\n",
        "        loss = criterion(outputs, labels)\n",
        "\n",
        "        # Backward pass and optimize\n",
        "        loss.backward()\n",
        "        optimizer.step()\n",
        "\n",
        "        running_loss += loss.item()\n",
        "\n",
        "    print(f\"Epoch {epoch+1}/{n_epochs}, Loss: {running_loss/len(train_loader)}\")\n"
      ],
      "metadata": {
        "colab": {
          "base_uri": "https://localhost:8080/"
        },
        "id": "ruyFLLWtw5W9",
        "outputId": "fa991740-4bf8-4331-8791-0cf36b649442"
      },
      "execution_count": null,
      "outputs": [
        {
          "output_type": "stream",
          "name": "stdout",
          "text": [
            "Epoch 1/5, Loss: 0.9999538125641056\n",
            "Epoch 2/5, Loss: 0.3785259581959324\n",
            "Epoch 3/5, Loss: 0.321302690771597\n",
            "Epoch 4/5, Loss: 0.2895437557893648\n",
            "Epoch 5/5, Loss: 0.26426652489281666\n"
          ]
        }
      ]
    },
    {
      "cell_type": "code",
      "source": [
        "#Visualizing the Results\n",
        "\n",
        "import matplotlib.pyplot as plt\n",
        "\n",
        "# Get a batch of test images\n",
        "dataiter = iter(test_loader)\n",
        "images, labels = next(dataiter)\n",
        "\n",
        "# Get predictions\n",
        "outputs = model(images)\n",
        "_, predicted = torch.max(outputs, 1)\n",
        "\n",
        "# Plot the images along with predicted labels\n",
        "fig = plt.figure(figsize=(10, 10))\n",
        "for i in range(1, 10):\n",
        "    plt.subplot(3, 3, i)\n",
        "    plt.axis('off')\n",
        "    plt.imshow(images[i].view(28, 28).numpy().squeeze(), cmap='gray')\n",
        "    plt.title(f'Predicted: {predicted[i].item()}')\n",
        "plt.show()\n"
      ],
      "metadata": {
        "colab": {
          "base_uri": "https://localhost:8080/",
          "height": 829
        },
        "id": "h1XS8E6Tw5Uc",
        "outputId": "33c6b5eb-3dd8-4356-9ad1-809c05e835a1"
      },
      "execution_count": null,
      "outputs": [
        {
          "output_type": "display_data",
          "data": {
            "text/plain": [
              "<Figure size 1000x1000 with 9 Axes>"
            ],
            "image/png": "[encoded data removed]"
          },
          "metadata": {}
        }
      ]
    },
    {
      "cell_type": "markdown",
      "source": [
        "## **Experiment 4 : ONNX Installation**"
      ],
      "metadata": {
        "id": "OVJJob_ll2nx"
      }
    },
    {
      "cell_type": "code",
      "source": [
        "!pip install onnx\n",
        "!pip install onnxscript"
      ],
      "metadata": {
        "colab": {
          "base_uri": "https://localhost:8080/"
        },
        "id": "h9xEAi9glo7i",
        "outputId": "ad531624-a331-4b9f-d8ec-5be1d6204386"
      },
      "execution_count": null,
      "outputs": [
        {
          "output_type": "stream",
          "name": "stdout",
          "text": [
            "Collecting onnx\n",
            "  Downloading onnx-1.17.0-cp310-cp310-manylinux_2_17_x86_64.manylinux2014_x86_64.whl.metadata (16 kB)\n",
            "Requirement already satisfied: numpy>=1.20 in /usr/local/lib/python3.10/dist-packages (from onnx) (1.26.4)\n",
            "Requirement already satisfied: protobuf>=3.20.2 in /usr/local/lib/python3.10/dist-packages (from onnx) (3.20.3)\n",
            "Downloading onnx-1.17.0-cp310-cp310-manylinux_2_17_x86_64.manylinux2014_x86_64.whl (16.0 MB)\n",
            "\u001b[2K   \u001b[90m━━━━━━━━━━━━━━━━━━━━━━━━━━━━━━━━━━━━━━━━\u001b[0m \u001b[32m16.0/16.0 MB\u001b[0m \u001b[31m62.4 MB/s\u001b[0m eta \u001b[36m0:00:00\u001b[0m\n",
            "\u001b[?25hInstalling collected packages: onnx\n",
            "Successfully installed onnx-1.17.0\n",
            "Collecting onnxscript\n",
            "  Downloading onnxscript-0.1.0.dev20241007-py3-none-any.whl.metadata (14 kB)\n",
            "Requirement already satisfied: numpy in /usr/local/lib/python3.10/dist-packages (from onnxscript) (1.26.4)\n",
            "Requirement already satisfied: onnx>=1.16 in /usr/local/lib/python3.10/dist-packages (from onnxscript) (1.17.0)\n",
            "Requirement already satisfied: typing-extensions in /usr/local/lib/python3.10/dist-packages (from onnxscript) (4.12.2)\n",
            "Requirement already satisfied: ml-dtypes in /usr/local/lib/python3.10/dist-packages (from onnxscript) (0.4.1)\n",
            "Requirement already satisfied: packaging in /usr/local/lib/python3.10/dist-packages (from onnxscript) (24.1)\n",
            "Requirement already satisfied: protobuf>=3.20.2 in /usr/local/lib/python3.10/dist-packages (from onnx>=1.16->onnxscript) (3.20.3)\n",
            "Downloading onnxscript-0.1.0.dev20241007-py3-none-any.whl (670 kB)\n",
            "\u001b[2K   \u001b[90m━━━━━━━━━━━━━━━━━━━━━━━━━━━━━━━━━━━━━━━━\u001b[0m \u001b[32m670.5/670.5 kB\u001b[0m \u001b[31m8.3 MB/s\u001b[0m eta \u001b[36m0:00:00\u001b[0m\n",
            "\u001b[?25hInstalling collected packages: onnxscript\n",
            "Successfully installed onnxscript-0.1.0.dev20241007\n"
          ]
        }
      ]
    },
    {
      "cell_type": "code",
      "source": [
        "import torch\n",
        "\n",
        "# Load the pre-trained model\n",
        "loaded_model = torch.load('model_iris.pth')\n",
        "\n",
        "# Set the model to evaluation mode\n",
        "loaded_model.eval()"
      ],
      "metadata": {
        "colab": {
          "base_uri": "https://localhost:8080/"
        },
        "id": "DhGKRGs10t-g",
        "outputId": "e40f1f2c-947b-494e-f720-3b769ce28b40"
      },
      "execution_count": null,
      "outputs": [
        {
          "output_type": "stream",
          "name": "stderr",
          "text": [
            "<ipython-input-20-de83ea74dbc9>:4: FutureWarning: You are using `torch.load` with `weights_only=False` (the current default value), which uses the default pickle module implicitly. It is possible to construct malicious pickle data which will execute arbitrary code during unpickling (See https://github.com/pytorch/pytorch/blob/main/SECURITY.md#untrusted-models for more details). In a future release, the default value for `weights_only` will be flipped to `True`. This limits the functions that could be executed during unpickling. Arbitrary objects will no longer be allowed to be loaded via this mode unless they are explicitly allowlisted by the user via `torch.serialization.add_safe_globals`. We recommend you start setting `weights_only=True` for any use case where you don't have full control of the loaded file. Please open an issue on GitHub for any issues related to this experimental feature.\n",
            "  loaded_model = torch.load('model_iris.pth')\n"
          ]
        },
        {
          "output_type": "execute_result",
          "data": {
            "text/plain": [
              "MLP(\n",
              "  (layer1): Linear(in_features=4, out_features=8, bias=True)\n",
              "  (layer_out): Linear(in_features=8, out_features=3, bias=True)\n",
              "  (activation_fn): Sigmoid()\n",
              ")"
            ]
          },
          "metadata": {},
          "execution_count": 20
        }
      ]
    },
    {
      "cell_type": "code",
      "source": [
        "import torch.nn as nn\n",
        "\n",
        "class IrisModel(nn.Module):\n",
        "    def __init__(self):\n",
        "        super(IrisModel, self).__init__()\n",
        "        self.fc1 = nn.Linear(4, 10)  # 4 inputs for the iris dataset features\n",
        "        self.fc2 = nn.Linear(10, 10)\n",
        "        self.fc3 = nn.Linear(10, 3)  # 3 output classes (for the 3 iris species)\n",
        "\n",
        "    def forward(self, x):\n",
        "        x = torch.relu(self.fc1(x))\n",
        "        x = torch.relu(self.fc2(x))\n",
        "        x = self.fc3(x)\n",
        "        return x\n",
        "\n",
        "# Instantiate the model\n",
        "loaded_model = IrisModel()\n",
        "\n",
        "# Set the model to evaluation mode\n",
        "loaded_model.eval()\n"
      ],
      "metadata": {
        "colab": {
          "base_uri": "https://localhost:8080/"
        },
        "id": "k7Owut-r0t7w",
        "outputId": "c92acc08-d32c-4497-c8e3-d5c44e081964"
      },
      "execution_count": null,
      "outputs": [
        {
          "output_type": "execute_result",
          "data": {
            "text/plain": [
              "IrisModel(\n",
              "  (fc1): Linear(in_features=4, out_features=10, bias=True)\n",
              "  (fc2): Linear(in_features=10, out_features=10, bias=True)\n",
              "  (fc3): Linear(in_features=10, out_features=3, bias=True)\n",
              ")"
            ]
          },
          "metadata": {},
          "execution_count": 21
        }
      ]
    },
    {
      "cell_type": "code",
      "source": [
        "import torch\n",
        "input_size_iris = 4 # input for iris model\n",
        "dummy_input = torch.rand(1, input_size_iris)\n",
        "input_names = [\"input\"]\n",
        "output_names = [\"output\"]\n",
        "torch.onnx.export(loaded_model, dummy_input, \"model_iris.onnx\", verbose=False, input_names=input_names, output_names=output_names, export_params=True,)\n"
      ],
      "metadata": {
        "id": "GWxZiQt7lo4z"
      },
      "execution_count": null,
      "outputs": []
    },
    {
      "cell_type": "code",
      "source": [
        "onnx_program.save(\"my_image_classifier.onnx\")"
      ],
      "metadata": {
        "id": "nvVH0qOWm8rp"
      },
      "execution_count": null,
      "outputs": []
    },
    {
      "cell_type": "code",
      "source": [
        "import onnx\n",
        "onnx_model = onnx.load(\"my_image_classifier.onnx\")\n",
        "onnx.checker.check_model(onnx_model)\n"
      ],
      "metadata": {
        "id": "abkDoYirnCj-"
      },
      "execution_count": null,
      "outputs": []
    },
    {
      "cell_type": "code",
      "source": [],
      "metadata": {
        "id": "tHlAi3wOnCYn"
      },
      "execution_count": null,
      "outputs": []
    }
  ]
}